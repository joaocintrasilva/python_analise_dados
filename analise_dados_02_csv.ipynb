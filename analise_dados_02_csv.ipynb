{
  "nbformat": 4,
  "nbformat_minor": 0,
  "metadata": {
    "colab": {
      "provenance": [],
      "authorship_tag": "ABX9TyPgYUqRM0RW7IibX4FJyaPL",
      "include_colab_link": true
    },
    "kernelspec": {
      "name": "python3",
      "display_name": "Python 3"
    },
    "language_info": {
      "name": "python"
    }
  },
  "cells": [
    {
      "cell_type": "markdown",
      "metadata": {
        "id": "view-in-github",
        "colab_type": "text"
      },
      "source": [
        "<a href=\"https://colab.research.google.com/github/joaocintrasilva/python_analise_dados/blob/main/analise_dados_02_csv.ipynb\" target=\"_parent\"><img src=\"https://colab.research.google.com/assets/colab-badge.svg\" alt=\"Open In Colab\"/></a>"
      ]
    },
    {
      "cell_type": "code",
      "execution_count": null,
      "metadata": {
        "id": "kGSvOjLUAT-z"
      },
      "outputs": [],
      "source": [
        "import numpy as np\n",
        "import pandas as pd\n",
        "\n"
      ]
    },
    {
      "cell_type": "code",
      "source": [
        "csv = \"https://raw.githubusercontent.com/joaocintrasilva/python_analise_dados/main/contexto_inter.csv\"\n",
        "revista = pd.read_csv(csv) \n",
        "revista"
      ],
      "metadata": {
        "id": "fvY-LOJuBZnb",
        "colab": {
          "base_uri": "https://localhost:8080/",
          "height": 1000
        },
        "outputId": "4069eede-bf9f-4775-efcf-18ffe7dbfcd7"
      },
      "execution_count": null,
      "outputs": [
        {
          "output_type": "execute_result",
          "data": {
            "text/plain": [
              "                                                    AU  \\\n",
              "0                                Eugênio Vargas Garcia   \n",
              "1                               Juan Gabriel Tokatlian   \n",
              "2                       Maria Guadalupe Moog Rodrigues   \n",
              "3                                      Mark Everingham   \n",
              "4                                          Mônica Herz   \n",
              "..                                                 ...   \n",
              "419  Leandro Wolpert dos Santos;André Pimentel Ferr...   \n",
              "420                     Cairo Gabriel Borges Junqueira   \n",
              "421         Virginia Soledad Busilli;María Belén Jaime   \n",
              "422             Bruno Hendler;André Luiz Cançado Motta   \n",
              "423                              João Fernando Finazzi   \n",
              "\n",
              "                                                    OG  \\\n",
              "0                                                  NaN   \n",
              "1                                                  NaN   \n",
              "2                                                  NaN   \n",
              "3                                                  NaN   \n",
              "4                                                  NaN   \n",
              "..                                                 ...   \n",
              "419  Institute of Social and Political Studies of t...   \n",
              "420                Federal University of Sergipe (UFS)   \n",
              "421  Scientific and Technological Center of the Nat...   \n",
              "422  Federal University of Santa Maria (UFSM);Feder...   \n",
              "423  San Tiago Dantas Interinstitutional Graduate P...   \n",
              "\n",
              "                                                    TI  \\\n",
              "0    Estados Unidos e Grã-Bretanha no Brasil: trans...   \n",
              "1    Colômbia: mais insegurança humana, menos segur...   \n",
              "2    Redes transnacionais de advocacia pública: est...   \n",
              "3    Direitos de propriedade e cidadania em socieda...   \n",
              "4    O Crescimento da área de relações internaciona...   \n",
              "..                                                 ...   \n",
              "419  Explaining the Changes in Brazilian Foreign Po...   \n",
              "420  From Municipalist Activism to Institutional Ch...   \n",
              "421  Chinese Investments in Brazil: Economic Diplom...   \n",
              "422  Military Build-up in Southeast Asia and the So...   \n",
              "423  Badges Without Borders: How Global Counterinsu...   \n",
              "\n",
              "                                                    AB  \\\n",
              "0    Com enfoque sobretudo na década de 20, este ar...   \n",
              "1    No contexto da grave crise que atravessa a reg...   \n",
              "2    O projeto Planafloro, financiado pelo Banco Mu...   \n",
              "3    Este estudo mostra como as disputas de terra d...   \n",
              "4    O artigo analisa a produção acadêmica brasilei...   \n",
              "..                                                 ...   \n",
              "419  AbstractThe administration of President Michel...   \n",
              "420  AbstractMercosur has gone through distinct pha...   \n",
              "421  AbstractThe People’s Republic of China has con...   \n",
              "422  AbstractAbstract: The South China Sea (SCS) is...   \n",
              "423                                                NaN   \n",
              "\n",
              "                                                    DE  \\\n",
              "0    Brazil-United States; Brazil-Britain; Transiti...   \n",
              "1    Andes Region; Human Insecurity; US Interventio...   \n",
              "2    Inspection Panel; World Bank; Transnational Ne...   \n",
              "3    Property Rights; Conflict Resolution; Citizens...   \n",
              "4    International Relations Theory; International ...   \n",
              "..                                                 ...   \n",
              "419  foreign policy change; Brazilian foreign polic...   \n",
              "420  Mercosur; Mercocities; FCCR; subnational gover...   \n",
              "421  Latin America, China, economic diplomacy, FDI,...   \n",
              "422  South China Sea; Southeast Asia; China; milita...   \n",
              "423                                                NaN   \n",
              "\n",
              "                                                    CR    BP_EP      PY  \\\n",
              "0    ABREU, Marcelo de Paiva. (1973), \"The Niemeyer...      NaN  2002.0   \n",
              "1    DORF, Robert H. (1996), \"Democratization and F...  129-166  2002.0   \n",
              "2    BROWDER, John. (1998), Report - World Bank Mid...      NaN  2002.0   \n",
              "3    ADAMS, Martin, SIBANDA, Sipho e THOMAS, Glen. ...      NaN  2002.0   \n",
              "4    ABREU, Marcelo de Paiva. (1984), \"O Brasil e a...      NaN  2002.0   \n",
              "..                                                 ...      ...     ...   \n",
              "419  Almeida, P R de. 2003. ‘A Política Internacion...  489-513  2021.0   \n",
              "420  Aalberts, T. 2005. ‘Sovereignty Reloaded? A Co...  515-540  2021.0   \n",
              "421  Abeliansky, A. L and I Martínez-Zarzoso. 2019....  541-564  2021.0   \n",
              "422  Astro Awani [online]. 2013. ‘PM Announces Sett...  565-591  2021.0   \n",
              "423  Latham, M. 2011. The Right Kind of Revolution:...  593-596  2021.0   \n",
              "\n",
              "                    IS  LA                                DI  \\\n",
              "0    v. 24 n. 1 (2002)  pt   10.1590/S0102-85292002000100001   \n",
              "1    v. 24 n. 1 (2002)  pt   10.1590/S0102-85292002000100002   \n",
              "2    v. 24 n. 1 (2002)  pt   10.1590/S0102-85292002000100003   \n",
              "3    v. 24 n. 1 (2002)  pt   10.1590/S0102-85292002000100004   \n",
              "4    v. 24 n. 1 (2002)  pt   10.1590/S0102-85292002000100005   \n",
              "..                 ...  ..                               ...   \n",
              "419  v. 43 n. 3 (2021)  en  10.1590/S0102-8529.2019430300003   \n",
              "420  v. 43 n. 3 (2021)  en  10.1590/S0102-8529.2019430300004   \n",
              "421  v. 43 n. 3 (2021)  en  10.1590/S0102-8529.2019430300005   \n",
              "422  v. 43 n. 3 (2021)  en  10.1590/S0102-8529.2019430300006   \n",
              "423  v. 43 n. 3 (2021)  en  10.1590/S0102-8529.2019430300007   \n",
              "\n",
              "                         SO         SN  \\\n",
              "0    Contexto Internacional  1982-0240   \n",
              "1    Contexto Internacional  1982-0240   \n",
              "2    Contexto Internacional  1982-0240   \n",
              "3    Contexto Internacional  1982-0240   \n",
              "4    Contexto Internacional  1982-0240   \n",
              "..                      ...        ...   \n",
              "419  Contexto Internacional  1982-0240   \n",
              "420  Contexto Internacional  1982-0240   \n",
              "421  Contexto Internacional  1982-0240   \n",
              "422  Contexto Internacional  1982-0240   \n",
              "423  Contexto Internacional  1982-0240   \n",
              "\n",
              "                                                   URL  \\\n",
              "0    http://www.scielo.br/j/cint/a/cMTYLM3xwfzKNT4q...   \n",
              "1    http://www.scielo.br/j/cint/a/z8kxTngCqVMZD65G...   \n",
              "2    http://www.scielo.br/j/cint/a/46s45RBfLWLqwZx9...   \n",
              "3    http://www.scielo.br/j/cint/a/7pRZMvTywYzZXDfJ...   \n",
              "4    http://www.scielo.br/j/cint/a/dTq3jbQQtT7DgRDj...   \n",
              "..                                                 ...   \n",
              "419  http://www.scielo.br/j/cint/a/7gnzcsdC6C3mcsm3...   \n",
              "420  http://www.scielo.br/j/cint/a/vqh4SkKwm4DknmfQ...   \n",
              "421  http://www.scielo.br/j/cint/a/czWnkqcLF8RfYDjR...   \n",
              "422  http://www.scielo.br/j/cint/a/jp66xVMw6bFGVJQH...   \n",
              "423  http://www.scielo.br/j/cint/a/zJtYy5mtQsMwTNpQ...   \n",
              "\n",
              "                                                PDFURL  \\\n",
              "0    https://www.scielo.br/j/cint/a/cMTYLM3xwfzKNT4...   \n",
              "1    https://www.scielo.br/j/cint/a/z8kxTngCqVMZD65...   \n",
              "2    https://www.scielo.br/j/cint/a/46s45RBfLWLqwZx...   \n",
              "3    https://www.scielo.br/j/cint/a/7pRZMvTywYzZXDf...   \n",
              "4    https://www.scielo.br/j/cint/a/dTq3jbQQtT7DgRD...   \n",
              "..                                                 ...   \n",
              "419  https://www.scielo.br/j/cint/a/7gnzcsdC6C3mcsm...   \n",
              "420  https://www.scielo.br/j/cint/a/vqh4SkKwm4Dknmf...   \n",
              "421  https://www.scielo.br/j/cint/a/czWnkqcLF8RfYDj...   \n",
              "422  https://www.scielo.br/j/cint/a/jp66xVMw6bFGVJQ...   \n",
              "423  https://www.scielo.br/j/cint/a/zJtYy5mtQsMwTNp...   \n",
              "\n",
              "                                           loc_arquivo     size  \n",
              "0    /media/hdvm09/bd/007/002/002/003/contexto_inte...   139729  \n",
              "1    /media/hdvm09/bd/007/002/002/003/contexto_inte...   154457  \n",
              "2    /media/hdvm09/bd/007/002/002/003/contexto_inte...   206246  \n",
              "3    /media/hdvm09/bd/007/002/002/003/contexto_inte...   147182  \n",
              "4    /media/hdvm09/bd/007/002/002/003/contexto_inte...   157795  \n",
              "..                                                 ...      ...  \n",
              "419  /media/hdvm09/bd/007/002/002/003/contexto_inte...  1702907  \n",
              "420  /media/hdvm09/bd/007/002/002/003/contexto_inte...  2147350  \n",
              "421  /media/hdvm09/bd/007/002/002/003/contexto_inte...  1823392  \n",
              "422  /media/hdvm09/bd/007/002/002/003/contexto_inte...  2166459  \n",
              "423  /media/hdvm09/bd/007/002/002/003/contexto_inte...   733593  \n",
              "\n",
              "[424 rows x 17 columns]"
            ],
            "text/html": [
              "\n",
              "  <div id=\"df-ccc41c6e-2a3b-48d1-97e8-e87b441b57ca\">\n",
              "    <div class=\"colab-df-container\">\n",
              "      <div>\n",
              "<style scoped>\n",
              "    .dataframe tbody tr th:only-of-type {\n",
              "        vertical-align: middle;\n",
              "    }\n",
              "\n",
              "    .dataframe tbody tr th {\n",
              "        vertical-align: top;\n",
              "    }\n",
              "\n",
              "    .dataframe thead th {\n",
              "        text-align: right;\n",
              "    }\n",
              "</style>\n",
              "<table border=\"1\" class=\"dataframe\">\n",
              "  <thead>\n",
              "    <tr style=\"text-align: right;\">\n",
              "      <th></th>\n",
              "      <th>AU</th>\n",
              "      <th>OG</th>\n",
              "      <th>TI</th>\n",
              "      <th>AB</th>\n",
              "      <th>DE</th>\n",
              "      <th>CR</th>\n",
              "      <th>BP_EP</th>\n",
              "      <th>PY</th>\n",
              "      <th>IS</th>\n",
              "      <th>LA</th>\n",
              "      <th>DI</th>\n",
              "      <th>SO</th>\n",
              "      <th>SN</th>\n",
              "      <th>URL</th>\n",
              "      <th>PDFURL</th>\n",
              "      <th>loc_arquivo</th>\n",
              "      <th>size</th>\n",
              "    </tr>\n",
              "  </thead>\n",
              "  <tbody>\n",
              "    <tr>\n",
              "      <th>0</th>\n",
              "      <td>Eugênio Vargas Garcia</td>\n",
              "      <td>NaN</td>\n",
              "      <td>Estados Unidos e Grã-Bretanha no Brasil: trans...</td>\n",
              "      <td>Com enfoque sobretudo na década de 20, este ar...</td>\n",
              "      <td>Brazil-United States; Brazil-Britain; Transiti...</td>\n",
              "      <td>ABREU, Marcelo de Paiva. (1973), \"The Niemeyer...</td>\n",
              "      <td>NaN</td>\n",
              "      <td>2002.0</td>\n",
              "      <td>v. 24 n. 1 (2002)</td>\n",
              "      <td>pt</td>\n",
              "      <td>10.1590/S0102-85292002000100001</td>\n",
              "      <td>Contexto Internacional</td>\n",
              "      <td>1982-0240</td>\n",
              "      <td>http://www.scielo.br/j/cint/a/cMTYLM3xwfzKNT4q...</td>\n",
              "      <td>https://www.scielo.br/j/cint/a/cMTYLM3xwfzKNT4...</td>\n",
              "      <td>/media/hdvm09/bd/007/002/002/003/contexto_inte...</td>\n",
              "      <td>139729</td>\n",
              "    </tr>\n",
              "    <tr>\n",
              "      <th>1</th>\n",
              "      <td>Juan Gabriel Tokatlian</td>\n",
              "      <td>NaN</td>\n",
              "      <td>Colômbia: mais insegurança humana, menos segur...</td>\n",
              "      <td>No contexto da grave crise que atravessa a reg...</td>\n",
              "      <td>Andes Region; Human Insecurity; US Interventio...</td>\n",
              "      <td>DORF, Robert H. (1996), \"Democratization and F...</td>\n",
              "      <td>129-166</td>\n",
              "      <td>2002.0</td>\n",
              "      <td>v. 24 n. 1 (2002)</td>\n",
              "      <td>pt</td>\n",
              "      <td>10.1590/S0102-85292002000100002</td>\n",
              "      <td>Contexto Internacional</td>\n",
              "      <td>1982-0240</td>\n",
              "      <td>http://www.scielo.br/j/cint/a/z8kxTngCqVMZD65G...</td>\n",
              "      <td>https://www.scielo.br/j/cint/a/z8kxTngCqVMZD65...</td>\n",
              "      <td>/media/hdvm09/bd/007/002/002/003/contexto_inte...</td>\n",
              "      <td>154457</td>\n",
              "    </tr>\n",
              "    <tr>\n",
              "      <th>2</th>\n",
              "      <td>Maria Guadalupe Moog Rodrigues</td>\n",
              "      <td>NaN</td>\n",
              "      <td>Redes transnacionais de advocacia pública: est...</td>\n",
              "      <td>O projeto Planafloro, financiado pelo Banco Mu...</td>\n",
              "      <td>Inspection Panel; World Bank; Transnational Ne...</td>\n",
              "      <td>BROWDER, John. (1998), Report - World Bank Mid...</td>\n",
              "      <td>NaN</td>\n",
              "      <td>2002.0</td>\n",
              "      <td>v. 24 n. 1 (2002)</td>\n",
              "      <td>pt</td>\n",
              "      <td>10.1590/S0102-85292002000100003</td>\n",
              "      <td>Contexto Internacional</td>\n",
              "      <td>1982-0240</td>\n",
              "      <td>http://www.scielo.br/j/cint/a/46s45RBfLWLqwZx9...</td>\n",
              "      <td>https://www.scielo.br/j/cint/a/46s45RBfLWLqwZx...</td>\n",
              "      <td>/media/hdvm09/bd/007/002/002/003/contexto_inte...</td>\n",
              "      <td>206246</td>\n",
              "    </tr>\n",
              "    <tr>\n",
              "      <th>3</th>\n",
              "      <td>Mark Everingham</td>\n",
              "      <td>NaN</td>\n",
              "      <td>Direitos de propriedade e cidadania em socieda...</td>\n",
              "      <td>Este estudo mostra como as disputas de terra d...</td>\n",
              "      <td>Property Rights; Conflict Resolution; Citizens...</td>\n",
              "      <td>ADAMS, Martin, SIBANDA, Sipho e THOMAS, Glen. ...</td>\n",
              "      <td>NaN</td>\n",
              "      <td>2002.0</td>\n",
              "      <td>v. 24 n. 1 (2002)</td>\n",
              "      <td>pt</td>\n",
              "      <td>10.1590/S0102-85292002000100004</td>\n",
              "      <td>Contexto Internacional</td>\n",
              "      <td>1982-0240</td>\n",
              "      <td>http://www.scielo.br/j/cint/a/7pRZMvTywYzZXDfJ...</td>\n",
              "      <td>https://www.scielo.br/j/cint/a/7pRZMvTywYzZXDf...</td>\n",
              "      <td>/media/hdvm09/bd/007/002/002/003/contexto_inte...</td>\n",
              "      <td>147182</td>\n",
              "    </tr>\n",
              "    <tr>\n",
              "      <th>4</th>\n",
              "      <td>Mônica Herz</td>\n",
              "      <td>NaN</td>\n",
              "      <td>O Crescimento da área de relações internaciona...</td>\n",
              "      <td>O artigo analisa a produção acadêmica brasilei...</td>\n",
              "      <td>International Relations Theory; International ...</td>\n",
              "      <td>ABREU, Marcelo de Paiva. (1984), \"O Brasil e a...</td>\n",
              "      <td>NaN</td>\n",
              "      <td>2002.0</td>\n",
              "      <td>v. 24 n. 1 (2002)</td>\n",
              "      <td>pt</td>\n",
              "      <td>10.1590/S0102-85292002000100005</td>\n",
              "      <td>Contexto Internacional</td>\n",
              "      <td>1982-0240</td>\n",
              "      <td>http://www.scielo.br/j/cint/a/dTq3jbQQtT7DgRDj...</td>\n",
              "      <td>https://www.scielo.br/j/cint/a/dTq3jbQQtT7DgRD...</td>\n",
              "      <td>/media/hdvm09/bd/007/002/002/003/contexto_inte...</td>\n",
              "      <td>157795</td>\n",
              "    </tr>\n",
              "    <tr>\n",
              "      <th>...</th>\n",
              "      <td>...</td>\n",
              "      <td>...</td>\n",
              "      <td>...</td>\n",
              "      <td>...</td>\n",
              "      <td>...</td>\n",
              "      <td>...</td>\n",
              "      <td>...</td>\n",
              "      <td>...</td>\n",
              "      <td>...</td>\n",
              "      <td>...</td>\n",
              "      <td>...</td>\n",
              "      <td>...</td>\n",
              "      <td>...</td>\n",
              "      <td>...</td>\n",
              "      <td>...</td>\n",
              "      <td>...</td>\n",
              "      <td>...</td>\n",
              "    </tr>\n",
              "    <tr>\n",
              "      <th>419</th>\n",
              "      <td>Leandro Wolpert dos Santos;André Pimentel Ferr...</td>\n",
              "      <td>Institute of Social and Political Studies of t...</td>\n",
              "      <td>Explaining the Changes in Brazilian Foreign Po...</td>\n",
              "      <td>AbstractThe administration of President Michel...</td>\n",
              "      <td>foreign policy change; Brazilian foreign polic...</td>\n",
              "      <td>Almeida, P R de. 2003. ‘A Política Internacion...</td>\n",
              "      <td>489-513</td>\n",
              "      <td>2021.0</td>\n",
              "      <td>v. 43 n. 3 (2021)</td>\n",
              "      <td>en</td>\n",
              "      <td>10.1590/S0102-8529.2019430300003</td>\n",
              "      <td>Contexto Internacional</td>\n",
              "      <td>1982-0240</td>\n",
              "      <td>http://www.scielo.br/j/cint/a/7gnzcsdC6C3mcsm3...</td>\n",
              "      <td>https://www.scielo.br/j/cint/a/7gnzcsdC6C3mcsm...</td>\n",
              "      <td>/media/hdvm09/bd/007/002/002/003/contexto_inte...</td>\n",
              "      <td>1702907</td>\n",
              "    </tr>\n",
              "    <tr>\n",
              "      <th>420</th>\n",
              "      <td>Cairo Gabriel Borges Junqueira</td>\n",
              "      <td>Federal University of Sergipe (UFS)</td>\n",
              "      <td>From Municipalist Activism to Institutional Ch...</td>\n",
              "      <td>AbstractMercosur has gone through distinct pha...</td>\n",
              "      <td>Mercosur; Mercocities; FCCR; subnational gover...</td>\n",
              "      <td>Aalberts, T. 2005. ‘Sovereignty Reloaded? A Co...</td>\n",
              "      <td>515-540</td>\n",
              "      <td>2021.0</td>\n",
              "      <td>v. 43 n. 3 (2021)</td>\n",
              "      <td>en</td>\n",
              "      <td>10.1590/S0102-8529.2019430300004</td>\n",
              "      <td>Contexto Internacional</td>\n",
              "      <td>1982-0240</td>\n",
              "      <td>http://www.scielo.br/j/cint/a/vqh4SkKwm4DknmfQ...</td>\n",
              "      <td>https://www.scielo.br/j/cint/a/vqh4SkKwm4Dknmf...</td>\n",
              "      <td>/media/hdvm09/bd/007/002/002/003/contexto_inte...</td>\n",
              "      <td>2147350</td>\n",
              "    </tr>\n",
              "    <tr>\n",
              "      <th>421</th>\n",
              "      <td>Virginia Soledad Busilli;María Belén Jaime</td>\n",
              "      <td>Scientific and Technological Center of the Nat...</td>\n",
              "      <td>Chinese Investments in Brazil: Economic Diplom...</td>\n",
              "      <td>AbstractThe People’s Republic of China has con...</td>\n",
              "      <td>Latin America, China, economic diplomacy, FDI,...</td>\n",
              "      <td>Abeliansky, A. L and I Martínez-Zarzoso. 2019....</td>\n",
              "      <td>541-564</td>\n",
              "      <td>2021.0</td>\n",
              "      <td>v. 43 n. 3 (2021)</td>\n",
              "      <td>en</td>\n",
              "      <td>10.1590/S0102-8529.2019430300005</td>\n",
              "      <td>Contexto Internacional</td>\n",
              "      <td>1982-0240</td>\n",
              "      <td>http://www.scielo.br/j/cint/a/czWnkqcLF8RfYDjR...</td>\n",
              "      <td>https://www.scielo.br/j/cint/a/czWnkqcLF8RfYDj...</td>\n",
              "      <td>/media/hdvm09/bd/007/002/002/003/contexto_inte...</td>\n",
              "      <td>1823392</td>\n",
              "    </tr>\n",
              "    <tr>\n",
              "      <th>422</th>\n",
              "      <td>Bruno Hendler;André Luiz Cançado Motta</td>\n",
              "      <td>Federal University of Santa Maria (UFSM);Feder...</td>\n",
              "      <td>Military Build-up in Southeast Asia and the So...</td>\n",
              "      <td>AbstractAbstract: The South China Sea (SCS) is...</td>\n",
              "      <td>South China Sea; Southeast Asia; China; milita...</td>\n",
              "      <td>Astro Awani [online]. 2013. ‘PM Announces Sett...</td>\n",
              "      <td>565-591</td>\n",
              "      <td>2021.0</td>\n",
              "      <td>v. 43 n. 3 (2021)</td>\n",
              "      <td>en</td>\n",
              "      <td>10.1590/S0102-8529.2019430300006</td>\n",
              "      <td>Contexto Internacional</td>\n",
              "      <td>1982-0240</td>\n",
              "      <td>http://www.scielo.br/j/cint/a/jp66xVMw6bFGVJQH...</td>\n",
              "      <td>https://www.scielo.br/j/cint/a/jp66xVMw6bFGVJQ...</td>\n",
              "      <td>/media/hdvm09/bd/007/002/002/003/contexto_inte...</td>\n",
              "      <td>2166459</td>\n",
              "    </tr>\n",
              "    <tr>\n",
              "      <th>423</th>\n",
              "      <td>João Fernando Finazzi</td>\n",
              "      <td>San Tiago Dantas Interinstitutional Graduate P...</td>\n",
              "      <td>Badges Without Borders: How Global Counterinsu...</td>\n",
              "      <td>NaN</td>\n",
              "      <td>NaN</td>\n",
              "      <td>Latham, M. 2011. The Right Kind of Revolution:...</td>\n",
              "      <td>593-596</td>\n",
              "      <td>2021.0</td>\n",
              "      <td>v. 43 n. 3 (2021)</td>\n",
              "      <td>en</td>\n",
              "      <td>10.1590/S0102-8529.2019430300007</td>\n",
              "      <td>Contexto Internacional</td>\n",
              "      <td>1982-0240</td>\n",
              "      <td>http://www.scielo.br/j/cint/a/zJtYy5mtQsMwTNpQ...</td>\n",
              "      <td>https://www.scielo.br/j/cint/a/zJtYy5mtQsMwTNp...</td>\n",
              "      <td>/media/hdvm09/bd/007/002/002/003/contexto_inte...</td>\n",
              "      <td>733593</td>\n",
              "    </tr>\n",
              "  </tbody>\n",
              "</table>\n",
              "<p>424 rows × 17 columns</p>\n",
              "</div>\n",
              "      <button class=\"colab-df-convert\" onclick=\"convertToInteractive('df-ccc41c6e-2a3b-48d1-97e8-e87b441b57ca')\"\n",
              "              title=\"Convert this dataframe to an interactive table.\"\n",
              "              style=\"display:none;\">\n",
              "        \n",
              "  <svg xmlns=\"http://www.w3.org/2000/svg\" height=\"24px\"viewBox=\"0 0 24 24\"\n",
              "       width=\"24px\">\n",
              "    <path d=\"M0 0h24v24H0V0z\" fill=\"none\"/>\n",
              "    <path d=\"M18.56 5.44l.94 2.06.94-2.06 2.06-.94-2.06-.94-.94-2.06-.94 2.06-2.06.94zm-11 1L8.5 8.5l.94-2.06 2.06-.94-2.06-.94L8.5 2.5l-.94 2.06-2.06.94zm10 10l.94 2.06.94-2.06 2.06-.94-2.06-.94-.94-2.06-.94 2.06-2.06.94z\"/><path d=\"M17.41 7.96l-1.37-1.37c-.4-.4-.92-.59-1.43-.59-.52 0-1.04.2-1.43.59L10.3 9.45l-7.72 7.72c-.78.78-.78 2.05 0 2.83L4 21.41c.39.39.9.59 1.41.59.51 0 1.02-.2 1.41-.59l7.78-7.78 2.81-2.81c.8-.78.8-2.07 0-2.86zM5.41 20L4 18.59l7.72-7.72 1.47 1.35L5.41 20z\"/>\n",
              "  </svg>\n",
              "      </button>\n",
              "      \n",
              "  <style>\n",
              "    .colab-df-container {\n",
              "      display:flex;\n",
              "      flex-wrap:wrap;\n",
              "      gap: 12px;\n",
              "    }\n",
              "\n",
              "    .colab-df-convert {\n",
              "      background-color: #E8F0FE;\n",
              "      border: none;\n",
              "      border-radius: 50%;\n",
              "      cursor: pointer;\n",
              "      display: none;\n",
              "      fill: #1967D2;\n",
              "      height: 32px;\n",
              "      padding: 0 0 0 0;\n",
              "      width: 32px;\n",
              "    }\n",
              "\n",
              "    .colab-df-convert:hover {\n",
              "      background-color: #E2EBFA;\n",
              "      box-shadow: 0px 1px 2px rgba(60, 64, 67, 0.3), 0px 1px 3px 1px rgba(60, 64, 67, 0.15);\n",
              "      fill: #174EA6;\n",
              "    }\n",
              "\n",
              "    [theme=dark] .colab-df-convert {\n",
              "      background-color: #3B4455;\n",
              "      fill: #D2E3FC;\n",
              "    }\n",
              "\n",
              "    [theme=dark] .colab-df-convert:hover {\n",
              "      background-color: #434B5C;\n",
              "      box-shadow: 0px 1px 3px 1px rgba(0, 0, 0, 0.15);\n",
              "      filter: drop-shadow(0px 1px 2px rgba(0, 0, 0, 0.3));\n",
              "      fill: #FFFFFF;\n",
              "    }\n",
              "  </style>\n",
              "\n",
              "      <script>\n",
              "        const buttonEl =\n",
              "          document.querySelector('#df-ccc41c6e-2a3b-48d1-97e8-e87b441b57ca button.colab-df-convert');\n",
              "        buttonEl.style.display =\n",
              "          google.colab.kernel.accessAllowed ? 'block' : 'none';\n",
              "\n",
              "        async function convertToInteractive(key) {\n",
              "          const element = document.querySelector('#df-ccc41c6e-2a3b-48d1-97e8-e87b441b57ca');\n",
              "          const dataTable =\n",
              "            await google.colab.kernel.invokeFunction('convertToInteractive',\n",
              "                                                     [key], {});\n",
              "          if (!dataTable) return;\n",
              "\n",
              "          const docLinkHtml = 'Like what you see? Visit the ' +\n",
              "            '<a target=\"_blank\" href=https://colab.research.google.com/notebooks/data_table.ipynb>data table notebook</a>'\n",
              "            + ' to learn more about interactive tables.';\n",
              "          element.innerHTML = '';\n",
              "          dataTable['output_type'] = 'display_data';\n",
              "          await google.colab.output.renderOutput(dataTable, element);\n",
              "          const docLink = document.createElement('div');\n",
              "          docLink.innerHTML = docLinkHtml;\n",
              "          element.appendChild(docLink);\n",
              "        }\n",
              "      </script>\n",
              "    </div>\n",
              "  </div>\n",
              "  "
            ]
          },
          "metadata": {},
          "execution_count": 4
        }
      ]
    },
    {
      "cell_type": "code",
      "source": [
        "revista.shape"
      ],
      "metadata": {
        "colab": {
          "base_uri": "https://localhost:8080/"
        },
        "id": "JIbC_GstC0ZS",
        "outputId": "d50481f3-c7e1-423c-debf-28a85633178a"
      },
      "execution_count": null,
      "outputs": [
        {
          "output_type": "execute_result",
          "data": {
            "text/plain": [
              "(424, 17)"
            ]
          },
          "metadata": {},
          "execution_count": 5
        }
      ]
    },
    {
      "cell_type": "code",
      "source": [
        "revista['TI']"
      ],
      "metadata": {
        "colab": {
          "base_uri": "https://localhost:8080/"
        },
        "id": "yeqn4m23DpYS",
        "outputId": "651b833b-87d2-4397-c426-037f68db3e02"
      },
      "execution_count": null,
      "outputs": [
        {
          "output_type": "execute_result",
          "data": {
            "text/plain": [
              "0      Estados Unidos e Grã-Bretanha no Brasil: trans...\n",
              "1      Colômbia: mais insegurança humana, menos segur...\n",
              "2      Redes transnacionais de advocacia pública: est...\n",
              "3      Direitos de propriedade e cidadania em socieda...\n",
              "4      O Crescimento da área de relações internaciona...\n",
              "                             ...                        \n",
              "419    Explaining the Changes in Brazilian Foreign Po...\n",
              "420    From Municipalist Activism to Institutional Ch...\n",
              "421    Chinese Investments in Brazil: Economic Diplom...\n",
              "422    Military Build-up in Southeast Asia and the So...\n",
              "423    Badges Without Borders: How Global Counterinsu...\n",
              "Name: TI, Length: 424, dtype: object"
            ]
          },
          "metadata": {},
          "execution_count": 6
        }
      ]
    },
    {
      "cell_type": "code",
      "source": [
        "artigos_por_ano = revista['PY'].value_counts(sort = False )\n",
        "artigos_por_ano"
      ],
      "metadata": {
        "id": "SmD6yDBiD6fQ",
        "colab": {
          "base_uri": "https://localhost:8080/"
        },
        "outputId": "08e24823-0fc9-4219-da71-ed4f17bb5dd9"
      },
      "execution_count": 13,
      "outputs": [
        {
          "output_type": "execute_result",
          "data": {
            "text/plain": [
              "2002.0    10\n",
              "2003.0    10\n",
              "2004.0    12\n",
              "2005.0    14\n",
              "2006.0    13\n",
              "2007.0    11\n",
              "2008.0    19\n",
              "2009.0    17\n",
              "2010.0    19\n",
              "2011.0    20\n",
              "2012.0    18\n",
              "2013.0    19\n",
              "2014.0    21\n",
              "2015.0    35\n",
              "2016.0    35\n",
              "2017.0    34\n",
              "2018.0    31\n",
              "2019.0    34\n",
              "2020.0    26\n",
              "2021.0    26\n",
              "Name: PY, dtype: int64"
            ]
          },
          "metadata": {},
          "execution_count": 13
        }
      ]
    },
    {
      "cell_type": "code",
      "source": [
        "artigos_por_ano_02 = revista.groupby([\"PY\"]).PY.count()\n",
        "artigos_por_ano_02"
      ],
      "metadata": {
        "colab": {
          "base_uri": "https://localhost:8080/"
        },
        "id": "k1-PF_H9Hvom",
        "outputId": "14bc950e-e0b3-4297-e88c-fa5ada4ba26a"
      },
      "execution_count": 26,
      "outputs": [
        {
          "output_type": "execute_result",
          "data": {
            "text/plain": [
              "PY\n",
              "2002.0    10\n",
              "2003.0    10\n",
              "2004.0    12\n",
              "2005.0    14\n",
              "2006.0    13\n",
              "2007.0    11\n",
              "2008.0    19\n",
              "2009.0    17\n",
              "2010.0    19\n",
              "2011.0    20\n",
              "2012.0    18\n",
              "2013.0    19\n",
              "2014.0    21\n",
              "2015.0    35\n",
              "2016.0    35\n",
              "2017.0    34\n",
              "2018.0    31\n",
              "2019.0    34\n",
              "2020.0    26\n",
              "2021.0    26\n",
              "Name: PY, dtype: int64"
            ]
          },
          "metadata": {},
          "execution_count": 26
        }
      ]
    },
    {
      "cell_type": "code",
      "source": [
        "frequencia_artigos = artigos_por_ano.plot(kind=\"bar\")\n",
        "frequencia_artigos"
      ],
      "metadata": {
        "colab": {
          "base_uri": "https://localhost:8080/",
          "height": 307
        },
        "id": "AMXr2C-8F5Qb",
        "outputId": "f2e27cca-1cbe-4df5-d88e-7625c35ccb11"
      },
      "execution_count": 15,
      "outputs": [
        {
          "output_type": "execute_result",
          "data": {
            "text/plain": [
              "<matplotlib.axes._subplots.AxesSubplot at 0x7f076f82bc40>"
            ]
          },
          "metadata": {},
          "execution_count": 15
        },
        {
          "output_type": "display_data",
          "data": {
            "text/plain": [
              "<Figure size 432x288 with 1 Axes>"
            ],
            "image/png": "[encoded data removed]"
          },
          "metadata": {
            "needs_background": "light"
          }
        }
      ]
    },
    {
      "cell_type": "code",
      "source": [
        "frequencia_artigos = artigos_por_ano.plot(kind=\"line\")\n",
        "frequencia_artigos"
      ],
      "metadata": {
        "colab": {
          "base_uri": "https://localhost:8080/",
          "height": 282
        },
        "id": "9dYX0qbvIwIo",
        "outputId": "78ead995-6a1a-4543-e841-5275823a1cc1"
      },
      "execution_count": 29,
      "outputs": [
        {
          "output_type": "execute_result",
          "data": {
            "text/plain": [
              "<matplotlib.axes._subplots.AxesSubplot at 0x7f076db434c0>"
            ]
          },
          "metadata": {},
          "execution_count": 29
        },
        {
          "output_type": "display_data",
          "data": {
            "text/plain": [
              "<Figure size 432x288 with 1 Axes>"
            ],
            "image/png": "[encoded data removed]"
          },
          "metadata": {
            "needs_background": "light"
          }
        }
      ]
    },
    {
      "cell_type": "code",
      "source": [
        "frequencia_artigos = artigos_por_ano.plot(kind=\"pie\",autopct='%0.3f%%')\n",
        "frequencia_artigos"
      ],
      "metadata": {
        "colab": {
          "base_uri": "https://localhost:8080/",
          "height": 265
        },
        "id": "ZZpCllJuJDyZ",
        "outputId": "8eb8f31d-ff1c-41d9-a7c3-dad4bde3a07d"
      },
      "execution_count": 36,
      "outputs": [
        {
          "output_type": "execute_result",
          "data": {
            "text/plain": [
              "<matplotlib.axes._subplots.AxesSubplot at 0x7f076ddcb280>"
            ]
          },
          "metadata": {},
          "execution_count": 36
        },
        {
          "output_type": "display_data",
          "data": {
            "text/plain": [
              "<Figure size 432x288 with 1 Axes>"
            ],
            "image/png": "[encoded data removed]"
          },
          "metadata": {}
        }
      ]
    },
    {
      "cell_type": "code",
      "source": [
        "frequencia_artigos = artigos_por_ano.plot(kind=\"barh\")\n",
        "frequencia_artigos"
      ],
      "metadata": {
        "colab": {
          "base_uri": "https://localhost:8080/",
          "height": 282
        },
        "id": "FYgtp5MtJwwU",
        "outputId": "41fbd671-ec73-41cf-e8b1-d3bb298f4b51"
      },
      "execution_count": 37,
      "outputs": [
        {
          "output_type": "execute_result",
          "data": {
            "text/plain": [
              "<matplotlib.axes._subplots.AxesSubplot at 0x7f076ddcb670>"
            ]
          },
          "metadata": {},
          "execution_count": 37
        },
        {
          "output_type": "display_data",
          "data": {
            "text/plain": [
              "<Figure size 432x288 with 1 Axes>"
            ],
            "image/png": "[encoded data removed]"
          },
          "metadata": {
            "needs_background": "light"
          }
        }
      ]
    },
    {
      "cell_type": "code",
      "source": [
        "#graficos gerados pelo plotly\n",
        "import plotly.graph_objects as go \n",
        "import plotly.express as px"
      ],
      "metadata": {
        "id": "kLdmQaYxGuo7"
      },
      "execution_count": 17,
      "outputs": []
    },
    {
      "cell_type": "code",
      "source": [
        "frequencia_artigos = px.bar(artigos_por_ano)\n",
        "frequencia_artigos"
      ],
      "metadata": {
        "colab": {
          "base_uri": "https://localhost:8080/",
          "height": 542
        },
        "id": "Rn1Zs7MfHCt0",
        "outputId": "9ba0c68c-f60a-4f9f-8bcc-1f45759c2aa8"
      },
      "execution_count": 19,
      "outputs": [
        {
          "output_type": "display_data",
          "data": {
            "text/html": [
              "<html>\n",
              "<head><meta charset=\"utf-8\" /></head>\n",
              "<body>\n",
              "    <div>            <script src=\"https://cdnjs.cloudflare.com/ajax/libs/mathjax/2.7.5/MathJax.js?config=TeX-AMS-MML_SVG\"></script><script type=\"text/javascript\">if (window.MathJax) {MathJax.Hub.Config({SVG: {font: \"STIX-Web\"}});}</script>                <script type=\"text/javascript\">window.PlotlyConfig = {MathJaxConfig: 'local'};</script>\n",
              "        <script src=\"https://cdn.plot.ly/plotly-2.8.3.min.js\"></script>                <div id=\"fa7f2997-8efc-4257-b085-105950d9c4f8\" class=\"plotly-graph-div\" style=\"height:525px; width:100%;\"></div>            <script type=\"text/javascript\">                                    window.PLOTLYENV=window.PLOTLYENV || {};                                    if (document.getElementById(\"fa7f2997-8efc-4257-b085-105950d9c4f8\")) {                    Plotly.newPlot(                        \"fa7f2997-8efc-4257-b085-105950d9c4f8\",                        [{\"alignmentgroup\":\"True\",\"hovertemplate\":\"variable=PY<br>index=%{x}<br>value=%{y}<extra></extra>\",\"legendgroup\":\"PY\",\"marker\":{\"color\":\"#636efa\",\"pattern\":{\"shape\":\"\"}},\"name\":\"PY\",\"offsetgroup\":\"PY\",\"orientation\":\"v\",\"showlegend\":true,\"textposition\":\"auto\",\"x\":[2002.0,2003.0,2004.0,2005.0,2006.0,2007.0,2008.0,2009.0,2010.0,2011.0,2012.0,2013.0,2014.0,2015.0,2016.0,2017.0,2018.0,2019.0,2020.0,2021.0],\"xaxis\":\"x\",\"y\":[10,10,12,14,13,11,19,17,19,20,18,19,21,35,35,34,31,34,26,26],\"yaxis\":\"y\",\"type\":\"bar\"}],                        {\"template\":{\"data\":{\"bar\":[{\"error_x\":{\"color\":\"#2a3f5f\"},\"error_y\":{\"color\":\"#2a3f5f\"},\"marker\":{\"line\":{\"color\":\"#E5ECF6\",\"width\":0.5},\"pattern\":{\"fillmode\":\"overlay\",\"size\":10,\"solidity\":0.2}},\"type\":\"bar\"}],\"barpolar\":[{\"marker\":{\"line\":{\"color\":\"#E5ECF6\",\"width\":0.5},\"pattern\":{\"fillmode\":\"overlay\",\"size\":10,\"solidity\":0.2}},\"type\":\"barpolar\"}],\"carpet\":[{\"aaxis\":{\"endlinecolor\":\"#2a3f5f\",\"gridcolor\":\"white\",\"linecolor\":\"white\",\"minorgridcolor\":\"white\",\"startlinecolor\":\"#2a3f5f\"},\"baxis\":{\"endlinecolor\":\"#2a3f5f\",\"gridcolor\":\"white\",\"linecolor\":\"white\",\"minorgridcolor\":\"white\",\"startlinecolor\":\"#2a3f5f\"},\"type\":\"carpet\"}],\"choropleth\":[{\"colorbar\":{\"outlinewidth\":0,\"ticks\":\"\"},\"type\":\"choropleth\"}],\"contour\":[{\"colorbar\":{\"outlinewidth\":0,\"ticks\":\"\"},\"colorscale\":[[0.0,\"#0d0887\"],[0.1111111111111111,\"#46039f\"],[0.2222222222222222,\"#7201a8\"],[0.3333333333333333,\"#9c179e\"],[0.4444444444444444,\"#bd3786\"],[0.5555555555555556,\"#d8576b\"],[0.6666666666666666,\"#ed7953\"],[0.7777777777777778,\"#fb9f3a\"],[0.8888888888888888,\"#fdca26\"],[1.0,\"#f0f921\"]],\"type\":\"contour\"}],\"contourcarpet\":[{\"colorbar\":{\"outlinewidth\":0,\"ticks\":\"\"},\"type\":\"contourcarpet\"}],\"heatmap\":[{\"colorbar\":{\"outlinewidth\":0,\"ticks\":\"\"},\"colorscale\":[[0.0,\"#0d0887\"],[0.1111111111111111,\"#46039f\"],[0.2222222222222222,\"#7201a8\"],[0.3333333333333333,\"#9c179e\"],[0.4444444444444444,\"#bd3786\"],[0.5555555555555556,\"#d8576b\"],[0.6666666666666666,\"#ed7953\"],[0.7777777777777778,\"#fb9f3a\"],[0.8888888888888888,\"#fdca26\"],[1.0,\"#f0f921\"]],\"type\":\"heatmap\"}],\"heatmapgl\":[{\"colorbar\":{\"outlinewidth\":0,\"ticks\":\"\"},\"colorscale\":[[0.0,\"#0d0887\"],[0.1111111111111111,\"#46039f\"],[0.2222222222222222,\"#7201a8\"],[0.3333333333333333,\"#9c179e\"],[0.4444444444444444,\"#bd3786\"],[0.5555555555555556,\"#d8576b\"],[0.6666666666666666,\"#ed7953\"],[0.7777777777777778,\"#fb9f3a\"],[0.8888888888888888,\"#fdca26\"],[1.0,\"#f0f921\"]],\"type\":\"heatmapgl\"}],\"histogram\":[{\"marker\":{\"pattern\":{\"fillmode\":\"overlay\",\"size\":10,\"solidity\":0.2}},\"type\":\"histogram\"}],\"histogram2d\":[{\"colorbar\":{\"outlinewidth\":0,\"ticks\":\"\"},\"colorscale\":[[0.0,\"#0d0887\"],[0.1111111111111111,\"#46039f\"],[0.2222222222222222,\"#7201a8\"],[0.3333333333333333,\"#9c179e\"],[0.4444444444444444,\"#bd3786\"],[0.5555555555555556,\"#d8576b\"],[0.6666666666666666,\"#ed7953\"],[0.7777777777777778,\"#fb9f3a\"],[0.8888888888888888,\"#fdca26\"],[1.0,\"#f0f921\"]],\"type\":\"histogram2d\"}],\"histogram2dcontour\":[{\"colorbar\":{\"outlinewidth\":0,\"ticks\":\"\"},\"colorscale\":[[0.0,\"#0d0887\"],[0.1111111111111111,\"#46039f\"],[0.2222222222222222,\"#7201a8\"],[0.3333333333333333,\"#9c179e\"],[0.4444444444444444,\"#bd3786\"],[0.5555555555555556,\"#d8576b\"],[0.6666666666666666,\"#ed7953\"],[0.7777777777777778,\"#fb9f3a\"],[0.8888888888888888,\"#fdca26\"],[1.0,\"#f0f921\"]],\"type\":\"histogram2dcontour\"}],\"mesh3d\":[{\"colorbar\":{\"outlinewidth\":0,\"ticks\":\"\"},\"type\":\"mesh3d\"}],\"parcoords\":[{\"line\":{\"colorbar\":{\"outlinewidth\":0,\"ticks\":\"\"}},\"type\":\"parcoords\"}],\"pie\":[{\"automargin\":true,\"type\":\"pie\"}],\"scatter\":[{\"marker\":{\"colorbar\":{\"outlinewidth\":0,\"ticks\":\"\"}},\"type\":\"scatter\"}],\"scatter3d\":[{\"line\":{\"colorbar\":{\"outlinewidth\":0,\"ticks\":\"\"}},\"marker\":{\"colorbar\":{\"outlinewidth\":0,\"ticks\":\"\"}},\"type\":\"scatter3d\"}],\"scattercarpet\":[{\"marker\":{\"colorbar\":{\"outlinewidth\":0,\"ticks\":\"\"}},\"type\":\"scattercarpet\"}],\"scattergeo\":[{\"marker\":{\"colorbar\":{\"outlinewidth\":0,\"ticks\":\"\"}},\"type\":\"scattergeo\"}],\"scattergl\":[{\"marker\":{\"colorbar\":{\"outlinewidth\":0,\"ticks\":\"\"}},\"type\":\"scattergl\"}],\"scattermapbox\":[{\"marker\":{\"colorbar\":{\"outlinewidth\":0,\"ticks\":\"\"}},\"type\":\"scattermapbox\"}],\"scatterpolar\":[{\"marker\":{\"colorbar\":{\"outlinewidth\":0,\"ticks\":\"\"}},\"type\":\"scatterpolar\"}],\"scatterpolargl\":[{\"marker\":{\"colorbar\":{\"outlinewidth\":0,\"ticks\":\"\"}},\"type\":\"scatterpolargl\"}],\"scatterternary\":[{\"marker\":{\"colorbar\":{\"outlinewidth\":0,\"ticks\":\"\"}},\"type\":\"scatterternary\"}],\"surface\":[{\"colorbar\":{\"outlinewidth\":0,\"ticks\":\"\"},\"colorscale\":[[0.0,\"#0d0887\"],[0.1111111111111111,\"#46039f\"],[0.2222222222222222,\"#7201a8\"],[0.3333333333333333,\"#9c179e\"],[0.4444444444444444,\"#bd3786\"],[0.5555555555555556,\"#d8576b\"],[0.6666666666666666,\"#ed7953\"],[0.7777777777777778,\"#fb9f3a\"],[0.8888888888888888,\"#fdca26\"],[1.0,\"#f0f921\"]],\"type\":\"surface\"}],\"table\":[{\"cells\":{\"fill\":{\"color\":\"#EBF0F8\"},\"line\":{\"color\":\"white\"}},\"header\":{\"fill\":{\"color\":\"#C8D4E3\"},\"line\":{\"color\":\"white\"}},\"type\":\"table\"}]},\"layout\":{\"annotationdefaults\":{\"arrowcolor\":\"#2a3f5f\",\"arrowhead\":0,\"arrowwidth\":1},\"autotypenumbers\":\"strict\",\"coloraxis\":{\"colorbar\":{\"outlinewidth\":0,\"ticks\":\"\"}},\"colorscale\":{\"diverging\":[[0,\"#8e0152\"],[0.1,\"#c51b7d\"],[0.2,\"#de77ae\"],[0.3,\"#f1b6da\"],[0.4,\"#fde0ef\"],[0.5,\"#f7f7f7\"],[0.6,\"#e6f5d0\"],[0.7,\"#b8e186\"],[0.8,\"#7fbc41\"],[0.9,\"#4d9221\"],[1,\"#276419\"]],\"sequential\":[[0.0,\"#0d0887\"],[0.1111111111111111,\"#46039f\"],[0.2222222222222222,\"#7201a8\"],[0.3333333333333333,\"#9c179e\"],[0.4444444444444444,\"#bd3786\"],[0.5555555555555556,\"#d8576b\"],[0.6666666666666666,\"#ed7953\"],[0.7777777777777778,\"#fb9f3a\"],[0.8888888888888888,\"#fdca26\"],[1.0,\"#f0f921\"]],\"sequentialminus\":[[0.0,\"#0d0887\"],[0.1111111111111111,\"#46039f\"],[0.2222222222222222,\"#7201a8\"],[0.3333333333333333,\"#9c179e\"],[0.4444444444444444,\"#bd3786\"],[0.5555555555555556,\"#d8576b\"],[0.6666666666666666,\"#ed7953\"],[0.7777777777777778,\"#fb9f3a\"],[0.8888888888888888,\"#fdca26\"],[1.0,\"#f0f921\"]]},\"colorway\":[\"#636efa\",\"#EF553B\",\"#00cc96\",\"#ab63fa\",\"#FFA15A\",\"#19d3f3\",\"#FF6692\",\"#B6E880\",\"#FF97FF\",\"#FECB52\"],\"font\":{\"color\":\"#2a3f5f\"},\"geo\":{\"bgcolor\":\"white\",\"lakecolor\":\"white\",\"landcolor\":\"#E5ECF6\",\"showlakes\":true,\"showland\":true,\"subunitcolor\":\"white\"},\"hoverlabel\":{\"align\":\"left\"},\"hovermode\":\"closest\",\"mapbox\":{\"style\":\"light\"},\"paper_bgcolor\":\"white\",\"plot_bgcolor\":\"#E5ECF6\",\"polar\":{\"angularaxis\":{\"gridcolor\":\"white\",\"linecolor\":\"white\",\"ticks\":\"\"},\"bgcolor\":\"#E5ECF6\",\"radialaxis\":{\"gridcolor\":\"white\",\"linecolor\":\"white\",\"ticks\":\"\"}},\"scene\":{\"xaxis\":{\"backgroundcolor\":\"#E5ECF6\",\"gridcolor\":\"white\",\"gridwidth\":2,\"linecolor\":\"white\",\"showbackground\":true,\"ticks\":\"\",\"zerolinecolor\":\"white\"},\"yaxis\":{\"backgroundcolor\":\"#E5ECF6\",\"gridcolor\":\"white\",\"gridwidth\":2,\"linecolor\":\"white\",\"showbackground\":true,\"ticks\":\"\",\"zerolinecolor\":\"white\"},\"zaxis\":{\"backgroundcolor\":\"#E5ECF6\",\"gridcolor\":\"white\",\"gridwidth\":2,\"linecolor\":\"white\",\"showbackground\":true,\"ticks\":\"\",\"zerolinecolor\":\"white\"}},\"shapedefaults\":{\"line\":{\"color\":\"#2a3f5f\"}},\"ternary\":{\"aaxis\":{\"gridcolor\":\"white\",\"linecolor\":\"white\",\"ticks\":\"\"},\"baxis\":{\"gridcolor\":\"white\",\"linecolor\":\"white\",\"ticks\":\"\"},\"bgcolor\":\"#E5ECF6\",\"caxis\":{\"gridcolor\":\"white\",\"linecolor\":\"white\",\"ticks\":\"\"}},\"title\":{\"x\":0.05},\"xaxis\":{\"automargin\":true,\"gridcolor\":\"white\",\"linecolor\":\"white\",\"ticks\":\"\",\"title\":{\"standoff\":15},\"zerolinecolor\":\"white\",\"zerolinewidth\":2},\"yaxis\":{\"automargin\":true,\"gridcolor\":\"white\",\"linecolor\":\"white\",\"ticks\":\"\",\"title\":{\"standoff\":15},\"zerolinecolor\":\"white\",\"zerolinewidth\":2}}},\"xaxis\":{\"anchor\":\"y\",\"domain\":[0.0,1.0],\"title\":{\"text\":\"index\"}},\"yaxis\":{\"anchor\":\"x\",\"domain\":[0.0,1.0],\"title\":{\"text\":\"value\"}},\"legend\":{\"title\":{\"text\":\"variable\"},\"tracegroupgap\":0},\"margin\":{\"t\":60},\"barmode\":\"relative\"},                        {\"responsive\": true}                    ).then(function(){\n",
              "                            \n",
              "var gd = document.getElementById('fa7f2997-8efc-4257-b085-105950d9c4f8');\n",
              "var x = new MutationObserver(function (mutations, observer) {{\n",
              "        var display = window.getComputedStyle(gd).display;\n",
              "        if (!display || display === 'none') {{\n",
              "            console.log([gd, 'removed!']);\n",
              "            Plotly.purge(gd);\n",
              "            observer.disconnect();\n",
              "        }}\n",
              "}});\n",
              "\n",
              "// Listen for the removal of the full notebook cells\n",
              "var notebookContainer = gd.closest('#notebook-container');\n",
              "if (notebookContainer) {{\n",
              "    x.observe(notebookContainer, {childList: true});\n",
              "}}\n",
              "\n",
              "// Listen for the clearing of the current output cell\n",
              "var outputEl = gd.closest('.output');\n",
              "if (outputEl) {{\n",
              "    x.observe(outputEl, {childList: true});\n",
              "}}\n",
              "\n",
              "                        })                };                            </script>        </div>\n",
              "</body>\n",
              "</html>"
            ]
          },
          "metadata": {}
        }
      ]
    }
  ]
}