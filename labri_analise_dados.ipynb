{
  "nbformat": 4,
  "nbformat_minor": 0,
  "metadata": {
    "colab": {
      "provenance": [],
      "include_colab_link": true
    },
    "kernelspec": {
      "name": "python3",
      "display_name": "Python 3"
    },
    "language_info": {
      "name": "python"
    }
  },
  "cells": [
    {
      "cell_type": "markdown",
      "metadata": {
        "id": "view-in-github",
        "colab_type": "text"
      },
      "source": [
        "<a href=\"https://colab.research.google.com/github/joaopaulo1223/python_analise_dados/blob/main/labri_analise_dados.ipynb\" target=\"_parent\"><img src=\"https://colab.research.google.com/assets/colab-badge.svg\" alt=\"Open In Colab\"/></a>"
      ]
    },
    {
      "cell_type": "code",
      "execution_count": 1,
      "metadata": {
        "id": "fMr9dyFcL8FH"
      },
      "outputs": [],
      "source": [
        "import numpy as np\n",
        "import pandas as pd\n",
        "\n",
        "\n"
      ]
    },
    {
      "cell_type": "code",
      "source": [
        "lista_paises    = [\"brasil\",\"angola\",\"portugual\",\"timor leste\",\"moçambique\"] \n",
        "lista_populacao = [214,33.93,10.3,1.34,32.16]\n",
        "\n",
        "\n",
        "paises = pd.Series(data=lista_populacao,index=lista_paises)\n",
        "paises.name=\"PAISES\" \n",
        "\n",
        "paises.index.name =\"POPULAÇÃO\"\n",
        "paises\n",
        "tamanho = paises.size\n",
        "tamanho\n",
        "dados = paises.values\n",
        "dados\n",
        "rotulos= paises.index\n",
        "rotulos\n",
        "paises"
      ],
      "metadata": {
        "colab": {
          "base_uri": "https://localhost:8080/"
        },
        "id": "iOWH9kmMZqRh",
        "outputId": "6cf360f4-d151-4b57-bacd-84226d7b641e"
      },
      "execution_count": 17,
      "outputs": [
        {
          "output_type": "execute_result",
          "data": {
            "text/plain": [
              "POPULAÇÃO\n",
              "brasil         214.00\n",
              "angola          33.93\n",
              "portugual       10.30\n",
              "timor leste      1.34\n",
              "moçambique      32.16\n",
              "Name: PAISES, dtype: float64"
            ]
          },
          "metadata": {},
          "execution_count": 17
        }
      ]
    }
  ]
}